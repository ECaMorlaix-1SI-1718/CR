{
 "cells": [
  {
   "cell_type": "markdown",
   "metadata": {
    "slideshow": {
     "slide_type": "slide"
    }
   },
   "source": [
    "# Nils HERRY / Emilien LE  BORGNE  1SI"
   ]
  },
  {
   "cell_type": "markdown",
   "metadata": {
    "slideshow": {
     "slide_type": "slide"
    }
   },
   "source": [
    "# Wind Charger\n",
    "\n",
    "***\n",
    "\n",
    "***"
   ]
  },
  {
   "cell_type": "markdown",
   "metadata": {
    "slideshow": {
     "slide_type": "slide"
    }
   },
   "source": [
    "## 1. Analyse fonctionnelle externe"
   ]
  },
  {
   "cell_type": "markdown",
   "metadata": {
    "slideshow": {
     "slide_type": "subslide"
    }
   },
   "source": [
    "### ♦ Bête à cornes\n",
    "\n",
    "<img src=\"image/bete a corne.png\" alt=\"Bête a cornes\" title=\"Bête a cornes\">"
   ]
  },
  {
   "cell_type": "markdown",
   "metadata": {
    "slideshow": {
     "slide_type": "subslide"
    }
   },
   "source": [
    "### ♦ Diagramme pieuvre\n",
    "\n",
    "<img src=\"image/diagramme pieuvre.png\" alt=\"Diagramme pieuvre\" title=\"Diagramme pieuvre\">\n",
    "\n",
    "|      |                                                       |\n",
    "|------|-------------------------------------------------------|\n",
    "| FP 1 | recharger un batterie de 5V grâce à l'énergie du vent | \n",
    "| FC 1 | être rétractable et facilement transportable          |   \n",
    "| FC 2 | résister au milieu extérieur (pluie, vent trop fort)  | \n",
    "| FC 3 | avoir un joli design                                  |\n",
    "\n",
    "***"
   ]
  },
  {
   "cell_type": "markdown",
   "metadata": {
    "slideshow": {
     "slide_type": "slide"
    }
   },
   "source": [
    "## 2. Cahier des charges fonctionnel"
   ]
  },
  {
   "cell_type": "markdown",
   "metadata": {
    "slideshow": {
     "slide_type": "subslide"
    }
   },
   "source": [
    "| Fonctions de service                                        | Critères d'appréciation  | Niveau d'exigence      | \n",
    "|-------------------------------------------------------------|--------------------------|------------------------|\n",
    "| FS 1: recharger un batterie de 5V grâce à l'énergie du vent | tension stable           | 5V                     |\n",
    "|                                                             | durée de charge          | 1h30-2h                |\n",
    "| FS 2: être rétractable et facilement transportable          | taille                   | maximum 30cm           |\n",
    "| FS 3: résister au milieu extérieur (pluie, vent trop fort)  | durée dans le temps      | ne pas tomber/rouiller |\n",
    "| FS 4: avoir un joli design                                  | formes / couleurs        | attirer le regard      |\n",
    "\n",
    "***"
   ]
  },
  {
   "cell_type": "markdown",
   "metadata": {
    "slideshow": {
     "slide_type": "slide"
    }
   },
   "source": [
    "## 3. Analyse fonctionnelle interne"
   ]
  },
  {
   "cell_type": "markdown",
   "metadata": {
    "slideshow": {
     "slide_type": "subslide"
    }
   },
   "source": [
    "### ♦ Chaîne d'énergie et d'information\n",
    "\n",
    "***"
   ]
  },
  {
   "cell_type": "markdown",
   "metadata": {
    "slideshow": {
     "slide_type": "slide"
    }
   },
   "source": [
    "## 4. Modélisation et schéma cinématique"
   ]
  },
  {
   "cell_type": "markdown",
   "metadata": {
    "slideshow": {
     "slide_type": "subslide"
    }
   },
   "source": [
    "### ♦ Schéma cinématique\n",
    "\n",
    "<img src=\"image/schema cinematique.JPG\" alt=\"schéma cinématique\" title=\"schéma cinématique\">"
   ]
  },
  {
   "cell_type": "markdown",
   "metadata": {
    "slideshow": {
     "slide_type": "subslide"
    }
   },
   "source": [
    "### ♦ Modélisation\n",
    "\n",
    "<img src=\"image/image eolienne1.png\" alt=\"modélisation éolienne\" title=\"modélisation éolienne\">"
   ]
  },
  {
   "cell_type": "markdown",
   "metadata": {
    "slideshow": {
     "slide_type": "subslide"
    }
   },
   "source": [
    "<img src=\"image/image eolienne2.png\" alt=\"modélisation éolienne\" title=\"modélisation éolienne\">"
   ]
  },
  {
   "cell_type": "markdown",
   "metadata": {
    "slideshow": {
     "slide_type": "subslide"
    }
   },
   "source": [
    "<img src=\"image/image eolienne3.png\" alt=\"modélisation éolienne\" title=\"modélisation éolienne\">\n",
    "\n",
    "*** \n",
    "\n",
    "***"
   ]
  },
  {
   "cell_type": "code",
   "execution_count": null,
   "metadata": {},
   "outputs": [],
   "source": []
  }
 ],
 "metadata": {
  "celltoolbar": "Slideshow",
  "kernelspec": {
   "display_name": "Python 3",
   "language": "python",
   "name": "python3"
  },
  "language_info": {
   "codemirror_mode": {
    "name": "ipython",
    "version": 3
   },
   "file_extension": ".py",
   "mimetype": "text/x-python",
   "name": "python",
   "nbconvert_exporter": "python",
   "pygments_lexer": "ipython3",
   "version": "3.6.4"
  }
 },
 "nbformat": 4,
 "nbformat_minor": 2
}
