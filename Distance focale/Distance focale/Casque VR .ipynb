{
 "cells": [
  {
   "cell_type": "markdown",
   "metadata": {},
   "source": [
    "# Etude du réglage optique du casque VR"
   ]
  },
  {
   "cell_type": "markdown",
   "metadata": {},
   "source": [
    "## Analyse Fonctionnelle externe"
   ]
  },
  {
   "cell_type": "markdown",
   "metadata": {},
   "source": [
    "### Bête à cornes \n"
   ]
  },
  {
   "cell_type": "markdown",
   "metadata": {},
   "source": [
    "![Bête à cornes](img/BeteACornes.png)"
   ]
  },
  {
   "cell_type": "markdown",
   "metadata": {},
   "source": [
    "### Diagramme pieuvre"
   ]
  },
  {
   "cell_type": "markdown",
   "metadata": {},
   "source": [
    "![Diagramme pieuvre](img/CapturePieuvre.PNG)"
   ]
  },
  {
   "cell_type": "markdown",
   "metadata": {},
   "source": [
    "FP1 : Permettre à l'utilisateur de modifier l'entraxe entre les 2 lentilles (exclusif au casque Maginon)"
   ]
  },
  {
   "cell_type": "markdown",
   "metadata": {},
   "source": [
    "FP2 : Permettre de régler la distance entre la lentilles et les yeux (Maginon) ou la distance portable-utilisateur (Samsung)"
   ]
  },
  {
   "cell_type": "markdown",
   "metadata": {},
   "source": [
    "FC1 : L'utilisateur agit sur les lentilles via le casque pour avoir une vision nette."
   ]
  },
  {
   "cell_type": "markdown",
   "metadata": {},
   "source": [
    "FS1 : "
   ]
  },
  {
   "cell_type": "markdown",
   "metadata": {},
   "source": [
    "## Analyse fonctionnelle interne "
   ]
  },
  {
   "cell_type": "markdown",
   "metadata": {},
   "source": [
    "### Cahier des charges Casque Maginon\n",
    "\n",
    "| Fonctions de services|Critère| Niveau |limite|\n",
    "|----------------------|:-----:|-------:|-----:|\n",
    "|FS1 : Avoir une image nette|Image lentille| Distance focale |Maxi|\n",
    "|FS2 : Modifier la place des lentilles|Extremum à atteindre, glissière d'axe Z,X droite gauche|X : 0.5cm avant-arrière |Maxi|\n",
    "\n"
   ]
  },
  {
   "cell_type": "markdown",
   "metadata": {},
   "source": [
    "### Cahier des charges Casque Samsung VR\n",
    "\n",
    "| Fonctions de services   |      Critère      | Niveau |Limite|\n",
    "|:-----------------------:|:-----------------:|------:|:-----:|\n",
    "| FS1 : Avoir une image nette  |  Image lentille | Distance focale |Maxi|\n",
    "| FS2 : Modifier la distance entre le portable et les lentilles |    Extremum à atteindre, Hélicoïdale d'axe Z   |   0.5cm avant-arrière |Maxi|\n"
   ]
  },
  {
   "cell_type": "markdown",
   "metadata": {},
   "source": [
    "## Représentation cinématique du casque Samsung\n"
   ]
  },
  {
   "cell_type": "markdown",
   "metadata": {},
   "source": [
    "1-Corps  \n",
    "2-Lentille droite  \n",
    "3-Lentille gauche  \n",
    "4-Smartphone  \n",
    "5-Molette réglage   \n",
    "6-Support lentilles  \n",
    "7-Support portable  \n"
   ]
  },
  {
   "cell_type": "markdown",
   "metadata": {},
   "source": [
    "CEC1={1;2;3;6}  \n",
    "CEC2={4}  \n",
    "CEC3={5;7}"
   ]
  },
  {
   "cell_type": "markdown",
   "metadata": {},
   "source": [
    "![tableau CEC Samsung](img/CECSamsung.png)"
   ]
  },
  {
   "cell_type": "markdown",
   "metadata": {},
   "source": [
    "![Liaisons samsung](img/LiaisonsSamsung.png)"
   ]
  },
  {
   "cell_type": "markdown",
   "metadata": {},
   "source": [
    "![Schéma cinématique Samsung](img/SchémaCinématiqueSamsung.png)"
   ]
  },
  {
   "cell_type": "markdown",
   "metadata": {},
   "source": [
    "## Représentation cinématique du casque Maginon"
   ]
  },
  {
   "cell_type": "markdown",
   "metadata": {},
   "source": [
    "1-Corps  \n",
    "2-Lentille gauche   \n",
    "3-Lentille droite  \n",
    "4-Smartphone  \n",
    "5-Réglage axe x droit  \n",
    "6-Réglage axe z droit  \n",
    "7-Réglage axe x gauche  \n",
    "8-Réglage axe z gauche  \n"
   ]
  },
  {
   "cell_type": "markdown",
   "metadata": {},
   "source": [
    "CEC1={1;4}  \n",
    "CEC2={2;7}  \n",
    "CEC3={3;5}  \n",
    "CEC4={6}  \n",
    "CEC5={8}  "
   ]
  },
  {
   "cell_type": "markdown",
   "metadata": {},
   "source": [
    "![Tableau CEC Maginon](img/TableauCECMaginon.png)"
   ]
  },
  {
   "cell_type": "code",
   "execution_count": null,
   "metadata": {},
   "outputs": [],
   "source": []
  }
 ],
 "metadata": {
  "kernelspec": {
   "display_name": "Python 3",
   "language": "python",
   "name": "python3"
  },
  "language_info": {
   "codemirror_mode": {
    "name": "ipython",
    "version": 3
   },
   "file_extension": ".py",
   "mimetype": "text/x-python",
   "name": "python",
   "nbconvert_exporter": "python",
   "pygments_lexer": "ipython3",
   "version": "3.6.4"
  }
 },
 "nbformat": 4,
 "nbformat_minor": 2
}
