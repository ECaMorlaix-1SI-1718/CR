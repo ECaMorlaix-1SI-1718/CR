{
 "cells": [
  {
   "cell_type": "markdown",
   "metadata": {},
   "source": [
    "# Tpe sur la Réalité Virtuelle et la Réalité Augmentée"
   ]
  },
  {
   "cell_type": "markdown",
   "metadata": {},
   "source": [
    "## Introduction"
   ]
  },
  {
   "cell_type": "markdown",
   "metadata": {},
   "source": [
    "**Problématique** : En quoi la Réalité Virtuelle et la Réalité Augmentée peuvent-elles promouvoir un lieu ?"
   ]
  },
  {
   "cell_type": "markdown",
   "metadata": {},
   "source": [
    "## Des réalités divergentes"
   ]
  },
  {
   "cell_type": "markdown",
   "metadata": {},
   "source": [
    "## Les images à 360°"
   ]
  },
  {
   "cell_type": "markdown",
   "metadata": {},
   "source": [
    "## L'Optique"
   ]
  },
  {
   "cell_type": "markdown",
   "metadata": {},
   "source": [
    "## Présentation de notre projet final"
   ]
  },
  {
   "cell_type": "markdown",
   "metadata": {},
   "source": [
    "## Conclusion"
   ]
  },
  {
   "cell_type": "code",
   "execution_count": null,
   "metadata": {},
   "outputs": [],
   "source": []
  },
  {
   "cell_type": "markdown",
   "metadata": {},
   "source": [
    "# Présentation des logiciels Vizor et Cospaces"
   ]
  },
  {
   "cell_type": "markdown",
   "metadata": {},
   "source": [
    "### Réalité Virtuelle : "
   ]
  },
  {
   "cell_type": "markdown",
   "metadata": {},
   "source": [
    "Elle immerge l'utilisateur dans un monde virtuelle. L'utilisateur est coupé de son environnement et ne voit seulement les informations montrées par le casque VR et ainsi peut interagir avec ces informations/éléments. "
   ]
  },
  {
   "cell_type": "markdown",
   "metadata": {},
   "source": [
    "### Réalité Augmentée : "
   ]
  },
  {
   "cell_type": "markdown",
   "metadata": {},
   "source": [
    "Elle combine le monde réel et des éléments numériques. On prend un milieu réel et on y introduit des éléments numériques qui n'auront aucune conscience de leur environnement.  \n",
    "\n",
    "![Réalité Augmentée](https://www.realite-virtuelle.com/wp-content/uploads/2016/03/R%C3%A9alit%C3%A9-augment%C3%A9-stat.png)"
   ]
  },
  {
   "cell_type": "markdown",
   "metadata": {},
   "source": [
    "## Vizor "
   ]
  },
  {
   "cell_type": "markdown",
   "metadata": {},
   "source": [
    "Vizor est un logiciel proposé directement sur Internet. Il permet de créer des visites virtuelles à 360° rapidement.\n",
    "Pour cela, il faut prendre plusieurs photos grâce à une caméra 360 que nous avons à notre disposition dans le laboratoire de SI. Il faut ensuite les mettre dans Vizor, puis par la suite insérer des balises qui sont en fait un lien vers une autre photo. Ces balises servent à la fin, à se déplacer dans la visite une fois celle-ci terminée."
   ]
  },
  {
   "cell_type": "markdown",
   "metadata": {},
   "source": [
    "![Vizor](img/vizor.png \"vizor\")"
   ]
  },
  {
   "cell_type": "markdown",
   "metadata": {},
   "source": [
    "https://vizor.io/elouan/visite-atrium-notre-dame-du-mur"
   ]
  },
  {
   "cell_type": "markdown",
   "metadata": {},
   "source": [
    "## Cospaces"
   ]
  },
  {
   "cell_type": "markdown",
   "metadata": {},
   "source": []
  },
  {
   "cell_type": "markdown",
   "metadata": {},
   "source": [
    "Cospaces à le même fonctionnement que Vizor mais propose plus de fonctionnalité qui Vizor. En effet on peut créer un environnement totalement virtuel grâce à blockly. Mais Cospaces permet aussi d'insérer des photos à 360° pour cette fois ci créer un environnement réel. Les photos peuvent par la suite être augmenté. C'est à dire, rajouter des éléments virtuels qui peuvent effectuer des actions "
   ]
  }
 ],
 "metadata": {
  "kernelspec": {
   "display_name": "Python 3",
   "language": "python",
   "name": "python3"
  },
  "language_info": {
   "codemirror_mode": {
    "name": "ipython",
    "version": 3
   },
   "file_extension": ".py",
   "mimetype": "text/x-python",
   "name": "python",
   "nbconvert_exporter": "python",
   "pygments_lexer": "ipython3",
   "version": "3.6.4"
  }
 },
 "nbformat": 4,
 "nbformat_minor": 2
}
