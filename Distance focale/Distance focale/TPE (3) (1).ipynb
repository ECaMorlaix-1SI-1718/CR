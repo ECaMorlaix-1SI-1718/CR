{
 "cells": [
  {
   "cell_type": "markdown",
   "metadata": {
    "slideshow": {
     "slide_type": "slide"
    }
   },
   "source": [
    "# Tpe sur la Réalité Virtuelle et la Réalité Augmentée      \n",
    "![ARVRRM](img/ArVrRm.png)"
   ]
  },
  {
   "cell_type": "markdown",
   "metadata": {
    "slideshow": {
     "slide_type": "slide"
    }
   },
   "source": [
    "## Introduction"
   ]
  },
  {
   "cell_type": "markdown",
   "metadata": {
    "slideshow": {
     "slide_type": "fragment"
    }
   },
   "source": [
    "**Problématique** : En quoi la Réalité Virtuelle et la Réalité Augmentée peuvent-elles promouvoir un lieu ?"
   ]
  },
  {
   "cell_type": "markdown",
   "metadata": {
    "slideshow": {
     "slide_type": "slide"
    }
   },
   "source": [
    "## Des réalités divergentes"
   ]
  },
  {
   "cell_type": "markdown",
   "metadata": {
    "slideshow": {
     "slide_type": "subslide"
    }
   },
   "source": [
    "### Réalitée Augmentée  \n",
    "Elle combine le monde réel et des éléments numériques. On prend un milieu réel et on y introduit des éléments numériques qui n'auront aucune conscience de leur environnement.     \n",
    "![AR](img/ARTPESnapchat.png)\n"
   ]
  },
  {
   "cell_type": "markdown",
   "metadata": {
    "slideshow": {
     "slide_type": "subslide"
    }
   },
   "source": [
    "### Réalité Virtuelle   \n",
    "Elle immerge l'utilisateur dans un monde virtuelle. L'utilisateur est coupé de son environnement et ne voit seulement les informations montrées par le casque VR et ainsi peut interagir avec ces informations/éléments.   \n",
    "![VR](http://img.chefdentreprise.com/Img/BREVE/2017/1/312015/Comment-realite-virtuelle-transformera-batiment-F.jpg)"
   ]
  },
  {
   "cell_type": "markdown",
   "metadata": {
    "slideshow": {
     "slide_type": "slide"
    }
   },
   "source": [
    "## Les images à 360°"
   ]
  },
  {
   "cell_type": "markdown",
   "metadata": {
    "slideshow": {
     "slide_type": "subslide"
    }
   },
   "source": [
    " <img src=\"https://images-na.ssl-images-amazon.com/images/I/71z4aXKSylL._SY355_.jpg\" alt= \"Caméra hémisphérique\" width=\"25%\"> \n"
   ]
  },
  {
   "cell_type": "markdown",
   "metadata": {
    "slideshow": {
     "slide_type": "subslide"
    }
   },
   "source": [
    "| Caméra   |      Prix      | Inconvénients |Avantages   | Remarques   |\n",
    "|----------|:-------------:|-----:|-----:|-----:|\n",
    "|Samsung Gear 360|250€|Utilisable qu'avec un portable Samsung. ||La caméra n'est donc pas très intéressante pour une utilisation universelle.  |\n",
    "| Ricoh theta S  |  Environ 330€ |  | La Ricoh Theta  permet de prendre des photos en 360° en une seule prise. Elle facilite donc la réalisation de visite virtuelle. Possibilité de filmer sans l'application Ricoh donc sans téléphone. Les vidéos/images sont compatibles avec des logiciels comme cospaces pour les photos en 360.    |   Les vidéos sont compatibles avec youtube et google street view. Compatible Android et iOS.     |\n",
    "|Ricoh theta V|Environ 430€|Temps de filmage limité à 25 minutes. Pas d'emplacement pour carte mémoire (19GO de mémoire). Trois applications qui pourraient être regroupées en une.Aberrations chromatiques prononcées.|Système basé sur android, donc possibilité d'optimiser les fonctionnalités de la caméra via des plugs-in. Qualité vidéo. 360° sphérique. Microphone 4 canaux. Prise micro externe. Accessoires optionnels.|19GO de mémoire|\n",
    "| Nikon Keymission 360 |330€|Appareil plus dédié au sport avec des caractéristiques permettant d'utiliser la caméra sous l'eau. On peut changer de mode de prise de photo ou vidéo qu'avec une application qui possède beaucoup de défauts|     |     |\n",
    "|Giroptic|À partir de 199€|La caméra doit obligatoirement être connecté en USB à un téléphone. Surtout intéressante pour le streaming. La caméra possède sa propre batterie (autonomie de 40/45 min)|     |Il existe 3 versions de la caméra, une avec prise lightning et les deux autres avec des prise micro-USB normal et C.|\n",
    "|LG Cam 360|Environ 200€|Ne fonctionne qu'avec le logiciel 360cam manager. Nécessite une carte sd non fournie. On ne peut pas modifier les photos/vidéos. Vidéo limité à 20 min|Fonctionne avec tous les smartphones.|Connexion wifi/bluetooth.|\n",
    "|Kodak SP360/Kodak SP360 4K|300€/500€|Ne filme pas totalement à 360° (235° en vue verticale). Incompatible avec les cartes microSD supérieures à 32 Go.|||\n",
    "|Rylo|Environ 500€|Seulement disponible aux Etats Unis. Compatible que avec les Iphones.||\n",
    "\n",
    "En définitif nous pensons que les cameras Ricoh Theta (V ou S) sont les plus aptes pour la réalisation de la visite virtuelle du lycée. Il y a aussi la Keymission 360 de Nikon mais la réalisation de vidéos est plus compliqué à cause de l'application.  \n",
    "\n",
    "\n",
    "\n"
   ]
  },
  {
   "cell_type": "markdown",
   "metadata": {
    "slideshow": {
     "slide_type": "subslide"
    }
   },
   "source": [
    "<img src=\"img/28000084_392752404518146_1191450411_o.jpg\" alt=\"Ricoh Theta V\" width=\"25%\">\n",
    "\n"
   ]
  },
  {
   "cell_type": "markdown",
   "metadata": {
    "slideshow": {
     "slide_type": "subslide"
    }
   },
   "source": [
    "<img src=\"img/28033568_392752364518150_1039539895_o.jpg\" alt=\"Ricoh Theta V\" width=\"25%\">\n"
   ]
  },
  {
   "cell_type": "markdown",
   "metadata": {
    "slideshow": {
     "slide_type": "slide"
    }
   },
   "source": [
    "## L'Optique"
   ]
  },
  {
   "cell_type": "markdown",
   "metadata": {
    "slideshow": {
     "slide_type": "subslide"
    }
   },
   "source": [
    "### La stéréoscopie "
   ]
  },
  {
   "cell_type": "markdown",
   "metadata": {
    "slideshow": {
     "slide_type": "fragment"
    }
   },
   "source": [
    "<img src=\"http://www.antiq-photo.com/local/cache-vignettes/L746xH327/arton1144-1c0f9.jpg\" alt=\"image stéréoscopique\" width=\"50%\">"
   ]
  },
  {
   "cell_type": "markdown",
   "metadata": {
    "slideshow": {
     "slide_type": "subslide"
    }
   },
   "source": [
    "### Démarche pour réaliser le casque"
   ]
  },
  {
   "cell_type": "markdown",
   "metadata": {
    "slideshow": {
     "slide_type": "subslide"
    }
   },
   "source": [
    "<img src=\"img/20180208_151905.jpg\" alt=\"casque\" width=\"50%\">"
   ]
  },
  {
   "cell_type": "markdown",
   "metadata": {
    "slideshow": {
     "slide_type": "subslide"
    }
   },
   "source": [
    "<img src=\"img/20180208_152055.jpg\" alt=\"casque\" width=\"50%\">"
   ]
  },
  {
   "cell_type": "markdown",
   "metadata": {
    "slideshow": {
     "slide_type": "subslide"
    }
   },
   "source": [
    "<img src=\"img/fonctionnement yeux.png\" alt=\"fonctionnement yeux\" width=\"25%\">"
   ]
  },
  {
   "cell_type": "markdown",
   "metadata": {
    "slideshow": {
     "slide_type": "subslide"
    }
   },
   "source": [
    "<img src=\"img/27939745_392753284518058_1138345379_n.png\" alt=\"schéma\" width=\"60%\">"
   ]
  },
  {
   "cell_type": "markdown",
   "metadata": {
    "slideshow": {
     "slide_type": "subslide"
    }
   },
   "source": [
    "<img src=\"img/20180208_153923.jpg\" alt=\"casque\" width=\"50%\">"
   ]
  },
  {
   "cell_type": "markdown",
   "metadata": {
    "slideshow": {
     "slide_type": "subslide"
    }
   },
   "source": [
    "<img src=\"img/20180208_160137.jpg\" alt=\"casque\" width=\"50%\">"
   ]
  },
  {
   "cell_type": "markdown",
   "metadata": {
    "slideshow": {
     "slide_type": "subslide"
    }
   },
   "source": [
    "<img src=\"img/20180208_160518.jpg\" alt=\"casque\" width=\"50%\">"
   ]
  },
  {
   "cell_type": "markdown",
   "metadata": {
    "slideshow": {
     "slide_type": "slide"
    }
   },
   "source": [
    "## Présentation de notre projet final"
   ]
  },
  {
   "cell_type": "markdown",
   "metadata": {
    "slideshow": {
     "slide_type": "subslide"
    }
   },
   "source": [
    "### Vizor"
   ]
  },
  {
   "cell_type": "markdown",
   "metadata": {
    "slideshow": {
     "slide_type": "fragment"
    }
   },
   "source": [
    "Vizor est un logiciel proposé directement sur Internet. Il permet de créer des visites virtuelles à 360° rapidement.\n",
    "Pour cela, il faut prendre plusieurs photos grâce à une caméra 360 que nous avons à notre disposition dans le laboratoire de SI. Il faut ensuite les mettre dans Vizor, puis par la suite insérer des balises qui sont en fait un lien vers une autre photo. Ces balises servent à la fin, à se déplacer dans la visite une fois celle-ci terminée."
   ]
  },
  {
   "cell_type": "markdown",
   "metadata": {
    "slideshow": {
     "slide_type": "fragment"
    }
   },
   "source": [
    "https://vizor.io/elouan/visite-atrium-notre-dame-du-mur"
   ]
  },
  {
   "cell_type": "markdown",
   "metadata": {
    "slideshow": {
     "slide_type": "subslide"
    }
   },
   "source": [
    "![Vizor](img/vizor.png \"vizor\")"
   ]
  },
  {
   "cell_type": "markdown",
   "metadata": {
    "slideshow": {
     "slide_type": "subslide"
    }
   },
   "source": [
    "### Cospaces"
   ]
  },
  {
   "cell_type": "markdown",
   "metadata": {
    "slideshow": {
     "slide_type": "fragment"
    }
   },
   "source": [
    "Cospaces à le même fonctionnement que Vizor mais propose plus de fonctionnalité qui Vizor. En effet on peut créer un environnement totalement virtuel grâce à blockly. Mais Cospaces permet aussi d'insérer des photos à 360° pour cette fois ci créer un environnement réel. Les photos peuvent par la suite être augmenté. C'est à dire, rajouter des éléments virtuels qui peuvent effectuer certaines actions."
   ]
  },
  {
   "cell_type": "markdown",
   "metadata": {
    "slideshow": {
     "slide_type": "fragment"
    }
   },
   "source": [
    "https://cospac.es/QHkh"
   ]
  },
  {
   "cell_type": "markdown",
   "metadata": {
    "slideshow": {
     "slide_type": "subslide"
    }
   },
   "source": [
    "<img src=\"img/cospaces4.png\" alt=\"cospaces4.png\" width=\"70%\">"
   ]
  },
  {
   "cell_type": "markdown",
   "metadata": {
    "slideshow": {
     "slide_type": "subslide"
    }
   },
   "source": [
    "<img src=\"img/Cospaces2.png\" alt=\"Cospaces\" width=\"70%\">"
   ]
  },
  {
   "cell_type": "markdown",
   "metadata": {
    "slideshow": {
     "slide_type": "subslide"
    }
   },
   "source": [
    "<img src=\"img/cospaces1.png\" src=\"cospaces\" width=\"70%\">"
   ]
  },
  {
   "cell_type": "markdown",
   "metadata": {
    "slideshow": {
     "slide_type": "subslide"
    }
   },
   "source": [
    "<img src=\"img/cospaces3.png\" alt=\"cospaces\" width=\"70%\">"
   ]
  },
  {
   "cell_type": "markdown",
   "metadata": {
    "slideshow": {
     "slide_type": "subslide"
    }
   },
   "source": [
    "<img src=\"img/exemple blockly cospaces.png\" alt=\"exemple blockly cospaces.png\" width=\"70%\">"
   ]
  },
  {
   "cell_type": "markdown",
   "metadata": {
    "slideshow": {
     "slide_type": "subslide"
    }
   },
   "source": [
    "## Conclusion"
   ]
  },
  {
   "cell_type": "markdown",
   "metadata": {
    "slideshow": {
     "slide_type": "fragment"
    }
   },
   "source": [
    "**Problématique** : En quoi la Réalité Virtuelle et la Réalité Augmentée peuvent-elles promouvoir un lieu ?"
   ]
  }
 ],
 "metadata": {
  "celltoolbar": "Slideshow",
  "kernelspec": {
   "display_name": "Python 3",
   "language": "python",
   "name": "python3"
  },
  "language_info": {
   "codemirror_mode": {
    "name": "ipython",
    "version": 3
   },
   "file_extension": ".py",
   "mimetype": "text/x-python",
   "name": "python",
   "nbconvert_exporter": "python",
   "pygments_lexer": "ipython3",
   "version": "3.6.4"
  }
 },
 "nbformat": 4,
 "nbformat_minor": 2
}
