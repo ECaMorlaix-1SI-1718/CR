{
 "cells": [
  {
   "cell_type": "code",
   "execution_count": null,
   "metadata": {},
   "outputs": [],
   "source": []
  },
  {
   "cell_type": "markdown",
   "metadata": {},
   "source": [
    "# Cahier des charges Casque Maginon\n",
    "\n",
    "| Fonctions de services|Critère| Niveau |limite|\n",
    "|----------------------|:-----:|-------:|-----:|\n",
    "|FS1 : Avoir une image nette|Image lentille| Distance focale |Maxi|\n",
    "|FS2 : Modifier la place des lentilles|Extremum à atteindre, glissière d'axe Z,X droite gauche|X : 0.5cm avant-arrière |Maxi|\n"
   ]
  },
  {
   "cell_type": "markdown",
   "metadata": {},
   "source": [
    "# Cahier des charges Casque Samsung VR\n",
    "\n",
    "| Fonctions de services   |      Critère      | Niveau |Limite|\n",
    "|:-----------------------:|:-----------------:|------:|:-----:|\n",
    "| FS1 : Avoir une image nette  |  Image lentille | Distance focale |Maxi|\n",
    "| FS2 : Modifier la place des lentilles |    Extremum à atteindre, Hélicoïdale d'axe Z   |   0.5cm avant-arrière |Maxi|\n"
   ]
  },
  {
   "cell_type": "markdown",
   "metadata": {},
   "source": [
    "\n"
   ]
  },
  {
   "cell_type": "markdown",
   "metadata": {},
   "source": [
    "### Diagramme pieuvre"
   ]
  },
  {
   "cell_type": "code",
   "execution_count": null,
   "metadata": {},
   "outputs": [],
   "source": []
  },
  {
   "cell_type": "markdown",
   "metadata": {},
   "source": [
    "FP1 : Permettre à l'utilisateur de modifier l'entraxe entre les 2 lentilles (exclusif au casque Maginon)"
   ]
  },
  {
   "cell_type": "markdown",
   "metadata": {},
   "source": [
    "FP2 : Permettre de régler la distance entre la lentilles et les yeux (Maginon) ou la distance portable-utilisateur (Samsung)"
   ]
  },
  {
   "cell_type": "markdown",
   "metadata": {},
   "source": [
    "FC1 : L'utilisateur agit sur les lentilles via le casque pour avoir une vision nette."
   ]
  },
  {
   "cell_type": "code",
   "execution_count": null,
   "metadata": {},
   "outputs": [],
   "source": []
  }
 ],
 "metadata": {
  "kernelspec": {
   "display_name": "Python 3",
   "language": "python",
   "name": "python3"
  },
  "language_info": {
   "codemirror_mode": {
    "name": "ipython",
    "version": 3
   },
   "file_extension": ".py",
   "mimetype": "text/x-python",
   "name": "python",
   "nbconvert_exporter": "python",
   "pygments_lexer": "ipython3",
   "version": "3.6.4"
  }
 },
 "nbformat": 4,
 "nbformat_minor": 2
}
