{
 "cells": [
  {
   "cell_type": "markdown",
   "metadata": {
    "slideshow": {
     "slide_type": "slide"
    }
   },
   "source": [
    "#### Analyse fonctionelle externe"
   ]
  },
  {
   "cell_type": "markdown",
   "metadata": {
    "slideshow": {
     "slide_type": "slide"
    }
   },
   "source": [
    "![bête à corne](img/bête à corne.png \"bête à corne\")"
   ]
  },
  {
   "cell_type": "markdown",
   "metadata": {
    "slideshow": {
     "slide_type": "slide"
    }
   },
   "source": [
    "![Diagramme pieuvre](img/Diagramme pieuvre.png \"diagramme pieuvre\")"
   ]
  },
  {
   "cell_type": "markdown",
   "metadata": {
    "slideshow": {
     "slide_type": "slide"
    }
   },
   "source": [
    "#### Analyse fonctionelle interne"
   ]
  },
  {
   "cell_type": "markdown",
   "metadata": {
    "slideshow": {
     "slide_type": "slide"
    }
   },
   "source": [
    "![Chaine d'information](img/chaine info.png \"chaine info\")"
   ]
  },
  {
   "cell_type": "markdown",
   "metadata": {
    "slideshow": {
     "slide_type": "slide"
    }
   },
   "source": [
    "|  Fonction principal  |   Muscler un individu        |\n",
    "|----------|:-------------:|\n",
    "| Fonction de service 1 |Changer la difficulté à l'effort|\n",
    "| Fonction de service 2 |Montrer les résultats|\n",
    "| Fonction de service 3 |Avoir un aspect qui s'adapte au décor environnant|\n",
    "| Fonction de service 4 |Avoir une prise en main confortable|\n",
    "| Fonction de service 5 |Poids maximal autorisé à respecter|\n"
   ]
  },
  {
   "cell_type": "markdown",
   "metadata": {
    "slideshow": {
     "slide_type": "slide"
    }
   },
   "source": [
    "#### Cahier des charges fonctionnelles"
   ]
  },
  {
   "cell_type": "markdown",
   "metadata": {
    "slideshow": {
     "slide_type": "slide"
    }
   },
   "source": [
    "| Fonction de service | Critère | Niveau | Limite |\n",
    "|:--------------------|:-------------------:|:-------------------:|:-------------------:|\n",
    "|FS1: Changer la difficulté à l'effort|Temps, distance, réglage de la résistance|500 mètres; dépend de la vitesse 1 à 10|Pas assez de résistance|        \n",
    "|FS2: Montrer les résultats de l'effort|Ecran LCD (montrant différentes informations)|Temps d'effort, distance parcourue, calories dépensées, ...|Besoin d'une ceinture thoracique pour la mesure du pouls|\n",
    "|FS3: Avoir un aspect qui s'adapte au décors environant|Couleur, Forme|Pas trop encombrant, couleur sobre|2 mètres de longueur et 0.5 mètres de largeur au maximum|\n",
    "|FS4: Avoir une prise en main confortable|Repose pied, siège, Poigné, écran|Siège et poigné confortable, repose pied réglable, écran très intiutif et simple|Repose pied au maximum taille 43-44|\n",
    "|FS5: Poids|Poids maximal|Maximum 130kg|Personne de plus de 130kg ne peuvent utiliser le rameur"
   ]
  },
  {
   "cell_type": "markdown",
   "metadata": {
    "slideshow": {
     "slide_type": "slide"
    }
   },
   "source": [
    "#### Schéma cinématique"
   ]
  },
  {
   "cell_type": "markdown",
   "metadata": {
    "slideshow": {
     "slide_type": "slide"
    }
   },
   "source": [
    "![Schéma cinématique](img/Schéma cinématique.png \"Schéma cinématique\")"
   ]
  }
 ],
 "metadata": {
  "celltoolbar": "Slideshow",
  "kernelspec": {
   "display_name": "Python 3",
   "language": "python",
   "name": "python3"
  },
  "language_info": {
   "codemirror_mode": {
    "name": "ipython",
    "version": 3
   },
   "file_extension": ".py",
   "mimetype": "text/x-python",
   "name": "python",
   "nbconvert_exporter": "python",
   "pygments_lexer": "ipython3",
   "version": "3.6.4"
  }
 },
 "nbformat": 4,
 "nbformat_minor": 2
}
