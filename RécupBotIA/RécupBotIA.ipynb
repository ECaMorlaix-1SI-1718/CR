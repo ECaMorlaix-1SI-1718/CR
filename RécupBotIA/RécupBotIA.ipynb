{
 "cells": [
  {
   "cell_type": "markdown",
   "metadata": {},
   "source": [
    "<center><h1>RécupBotIA</h1></center>\n",
    "\n",
    "\n",
    "\n",
    "\n",
    "# L'articulation du bras\n",
    "\n",
    "\n",
    "![Bras](img/Bras.png \"Bras du robot\")"
   ]
  },
  {
   "cell_type": "markdown",
   "metadata": {},
   "source": [
    "### Analyse fonctionnelle externe et interne\n",
    "\n",
    "### Plan :\n",
    "####  Externe  \n",
    "\n",
    "* Bête à cornes\n",
    "* Diagramme pieuvre\n",
    "\n",
    "####  Interne \n",
    "* Chaîne d'information et chaine d'énergie\n",
    "\n",
    "\n"
   ]
  },
  {
   "cell_type": "markdown",
   "metadata": {},
   "source": [
    "## Externe\n",
    "\n",
    "![Bête-à-cornes_Bras](img/Bête-à-cornes_Bras-copy.png \"Bras du robot\")\n"
   ]
  },
  {
   "cell_type": "markdown",
   "metadata": {},
   "source": [
    "![Pieuvre_Bras](img/Pieuvre_Bras.jpg \"Bras du robot\")\n"
   ]
  },
  {
   "cell_type": "code",
   "execution_count": null,
   "metadata": {},
   "outputs": [],
   "source": []
  }
 ],
 "metadata": {
  "kernelspec": {
   "display_name": "Python 3",
   "language": "python",
   "name": "python3"
  },
  "language_info": {
   "codemirror_mode": {
    "name": "ipython",
    "version": 3
   },
   "file_extension": ".py",
   "mimetype": "text/x-python",
   "name": "python",
   "nbconvert_exporter": "python",
   "pygments_lexer": "ipython3",
   "version": "3.6.4"
  }
 },
 "nbformat": 4,
 "nbformat_minor": 2
}
