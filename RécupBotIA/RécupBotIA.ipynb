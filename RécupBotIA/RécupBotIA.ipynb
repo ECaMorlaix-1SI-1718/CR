{
 "cells": [
  {
   "cell_type": "markdown",
   "metadata": {
    "slideshow": {
     "slide_type": "slide"
    }
   },
   "source": [
    "<center><h1>RécupBotIA</h1></center>\n",
    "\n",
    "\n",
    "\n",
    "\n",
    "# Le mécanisme du bras et sa commande vocale\n",
    "\n",
    "\n",
    "![Bras](img/Bras.png \"Bras du robot\")\n",
    "\n",
    "\n",
    "***"
   ]
  },
  {
   "cell_type": "markdown",
   "metadata": {
    "slideshow": {
     "slide_type": "slide"
    }
   },
   "source": [
    "## Plan :\n",
    "\n",
    "### Analyse fonctionnelle externe et interne\n",
    "\n",
    "####  Externe  \n",
    "\n",
    "* Bête à cornes\n",
    "* Diagramme pieuvre\n",
    "\n",
    "####  Interne \n",
    "* Chaîne d'information et chaîne d'énergie\n",
    "\n",
    "### Schéma cinématique et modélisation 3D\n",
    "\n"
   ]
  },
  {
   "cell_type": "markdown",
   "metadata": {
    "slideshow": {
     "slide_type": "slide"
    }
   },
   "source": [
    "## Externe\n",
    "\n",
    "![Bête-à-cornes_Bras](img/Bête-à-cornes_Bras-copy.png \"Bras du robot\")\n",
    "\n",
    "\n",
    "\n",
    "\n",
    "\n"
   ]
  },
  {
   "cell_type": "markdown",
   "metadata": {
    "slideshow": {
     "slide_type": "skip"
    }
   },
   "source": [
    "***\n",
    "\n",
    "\n",
    "\n",
    "\n",
    "\n",
    "\n",
    "\n",
    "\n",
    "\n",
    "\n",
    "\n"
   ]
  },
  {
   "cell_type": "markdown",
   "metadata": {
    "slideshow": {
     "slide_type": "subslide"
    }
   },
   "source": [
    "![Pieuvre_Bras](img/diagramme_pieuvre_PNG.png \"Bras du robot\")\n"
   ]
  },
  {
   "cell_type": "markdown",
   "metadata": {
    "slideshow": {
     "slide_type": "slide"
    }
   },
   "source": [
    "## Interne\n",
    "\n",
    "### Chaînes d'information et d'énergie\n",
    "\n",
    "![Chaînes_IA](img/Chaîne_IA.png \"Chaînes d'information et d'énergie\")"
   ]
  },
  {
   "cell_type": "markdown",
   "metadata": {
    "slideshow": {
     "slide_type": "slide"
    }
   },
   "source": [
    "## Schéma cinématique et modélisation 3D"
   ]
  },
  {
   "cell_type": "markdown",
   "metadata": {
    "slideshow": {
     "slide_type": "subslide"
    }
   },
   "source": [
    "![cinématique](img/cinematique.png \"Schéma cinématique\")"
   ]
  },
  {
   "cell_type": "markdown",
   "metadata": {
    "slideshow": {
     "slide_type": "subslide"
    }
   },
   "source": [
    "![modélisation](img/robot.png \"Modélisation 3D\")"
   ]
  },
  {
   "cell_type": "markdown",
   "metadata": {
    "slideshow": {
     "slide_type": "subslide"
    }
   },
   "source": [
    "![modélisation](img/robot2.png \"Modélisation 3D\")"
   ]
  }
 ],
 "metadata": {
  "celltoolbar": "Slideshow",
  "kernelspec": {
   "display_name": "Python 3",
   "language": "python",
   "name": "python3"
  },
  "language_info": {
   "codemirror_mode": {
    "name": "ipython",
    "version": 3
   },
   "file_extension": ".py",
   "mimetype": "text/x-python",
   "name": "python",
   "nbconvert_exporter": "python",
   "pygments_lexer": "ipython3",
   "version": "3.6.4"
  }
 },
 "nbformat": 4,
 "nbformat_minor": 2
}
