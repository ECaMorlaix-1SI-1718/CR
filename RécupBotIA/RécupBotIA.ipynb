{
 "cells": [
  {
   "cell_type": "markdown",
   "metadata": {
    "slideshow": {
     "slide_type": "slide"
    }
   },
   "source": [
    "<center><h1>RécupBotIA</h1></center>\n",
    "\n",
    "\n",
    "\n",
    "\n",
    "# L'articulation du bras\n",
    "\n",
    "\n",
    "![Bras](img/Bras.png \"Bras du robot\")\n",
    "\n",
    "\n",
    "***"
   ]
  },
  {
   "cell_type": "markdown",
   "metadata": {
    "slideshow": {
     "slide_type": "slide"
    }
   },
   "source": [
    "### Analyse fonctionnelle externe et interne\n",
    "\n",
    "### Plan :\n",
    "####  Externe  \n",
    "\n",
    "* Bête à cornes\n",
    "* Diagramme pieuvre\n",
    "\n",
    "####  Interne \n",
    "* Chaîne d'information et chaîne d'énergie\n",
    "\n",
    "\n"
   ]
  },
  {
   "cell_type": "markdown",
   "metadata": {
    "slideshow": {
     "slide_type": "slide"
    }
   },
   "source": [
    "## Externe\n",
    "\n",
    "![Bête-à-cornes_Bras](img/Bête-à-cornes_Bras-copy.png \"Bras du robot\")\n",
    "\n",
    "\n",
    "\n",
    "\n",
    "\n"
   ]
  },
  {
   "cell_type": "markdown",
   "metadata": {
    "slideshow": {
     "slide_type": "skip"
    }
   },
   "source": [
    "***\n",
    "\n",
    "\n",
    "\n",
    "\n",
    "\n",
    "\n",
    "\n",
    "\n",
    "\n",
    "\n",
    "\n"
   ]
  },
  {
   "cell_type": "markdown",
   "metadata": {
    "slideshow": {
     "slide_type": "subslide"
    }
   },
   "source": [
    "![Pieuvre_Bras](img/Pieuvre_Bras.jpg \"Bras du robot\")\n"
   ]
  },
  {
   "cell_type": "markdown",
   "metadata": {
    "slideshow": {
     "slide_type": "slide"
    }
   },
   "source": [
    "## Interne\n",
    "\n",
    "### Chaînes d'information et d'énergie\n",
    "\n",
    "![Chaînes_IA](img/Chaînes_IA.png \"Chaînes d'information et d'énergie\")"
   ]
  }
 ],
 "metadata": {
  "celltoolbar": "Slideshow",
  "kernelspec": {
   "display_name": "Python 3",
   "language": "python",
   "name": "python3"
  },
  "language_info": {
   "codemirror_mode": {
    "name": "ipython",
    "version": 3
   },
   "file_extension": ".py",
   "mimetype": "text/x-python",
   "name": "python",
   "nbconvert_exporter": "python",
   "pygments_lexer": "ipython3",
   "version": "3.6.4"
  }
 },
 "nbformat": 4,
 "nbformat_minor": 2
}
