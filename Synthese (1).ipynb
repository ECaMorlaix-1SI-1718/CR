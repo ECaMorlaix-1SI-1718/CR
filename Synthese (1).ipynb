{
 "cells": [
  {
   "cell_type": "markdown",
   "metadata": {
    "slideshow": {
     "slide_type": "slide"
    }
   },
   "source": [
    "# Synthèse de SI\n",
    "\n",
    "_Comment rendre la météorologie scientifique accessible à tous?_\n",
    "\n",
    "Par Samantha VITAL, Thomas Danielou et Maëna Charbonnier"
   ]
  },
  {
   "cell_type": "markdown",
   "metadata": {
    "slideshow": {
     "slide_type": "subslide"
    }
   },
   "source": [
    "# Plan\n",
    "\n",
    "1. Analyse fonctionnelle\n",
    "    1. Analyse interne\n",
    "    1. Analyse externe\n",
    "1. Création du pluviomètre\n",
    "    1. Modélisation\n",
    "    1. Simulation\n",
    "    1. Expérimentation\n",
    "1. Lien avec notre TPE\n",
    "    1. La météorologie\n",
    "    1. L'expérience d'Amaury\n",
    "   "
   ]
  },
  {
   "cell_type": "markdown",
   "metadata": {
    "slideshow": {
     "slide_type": "slide"
    }
   },
   "source": [
    "\n",
    "# Analyse fonctionnelle \n",
    "\n",
    "## Analyse externe\n",
    "\n",
    "![](img/bac.png \"\")"
   ]
  },
  {
   "cell_type": "markdown",
   "metadata": {
    "slideshow": {
     "slide_type": "subslide"
    }
   },
   "source": [
    "![](img/pieuvre.png \"\")"
   ]
  },
  {
   "cell_type": "markdown",
   "metadata": {
    "slideshow": {
     "slide_type": "subslide"
    }
   },
   "source": [
    "## Analyse interne\n",
    "\n",
    "*Chaîne d'énergie*\n",
    "\n",
    "![](img/ce.png \"\")"
   ]
  },
  {
   "cell_type": "markdown",
   "metadata": {
    "collapsed": true,
    "slideshow": {
     "slide_type": "subslide"
    }
   },
   "source": [
    "*Schéma FAST*\n",
    "![](img/sf.png \"\")"
   ]
  },
  {
   "cell_type": "markdown",
   "metadata": {
    "slideshow": {
     "slide_type": "slide"
    }
   },
   "source": [
    "# Création du pluviomètre\n",
    "\n",
    "## Modélisation\n",
    "\n",
    "![](img/r.png \"\")\n",
    "\n",
    "Structure modélisée sur Solidworks\n"
   ]
  },
  {
   "cell_type": "markdown",
   "metadata": {
    "slideshow": {
     "slide_type": "subslide"
    }
   },
   "source": [
    "![](img/a.png \"\")\n",
    "\n",
    "Modélisation balancier importé de Grabcad\n"
   ]
  },
  {
   "cell_type": "markdown",
   "metadata": {
    "slideshow": {
     "slide_type": "subslide"
    }
   },
   "source": [
    "![](img/v.png \"\")\n",
    " Modélisation support entonnoir"
   ]
  },
  {
   "cell_type": "markdown",
   "metadata": {
    "slideshow": {
     "slide_type": "subslide"
    }
   },
   "source": [
    "![](img/modélisation couleur.png \"\")"
   ]
  },
  {
   "cell_type": "markdown",
   "metadata": {
    "slideshow": {
     "slide_type": "subslide"
    }
   },
   "source": [
    "![](img/pivot.png \"\")\n",
    "\n",
    "Schéma cinématique d'un pivot"
   ]
  },
  {
   "cell_type": "markdown",
   "metadata": {
    "slideshow": {
     "slide_type": "slide"
    }
   },
   "source": [
    "# Simulation\n",
    "\n",
    "### Programmes Mathlab:\n",
    "\n",
    "![](img/mathlab.png \"\")\n",
    "\n",
    "Simulink\n",
    "\n"
   ]
  },
  {
   "cell_type": "markdown",
   "metadata": {
    "slideshow": {
     "slide_type": "subslide"
    }
   },
   "source": [
    "![](img/stateflow.png \"\")\n",
    "\n",
    "Stateflow"
   ]
  },
  {
   "cell_type": "markdown",
   "metadata": {
    "slideshow": {
     "slide_type": "subslide"
    }
   },
   "source": [
    "### Programmes Microbit:\n",
    "\n",
    "![](img/pd.png \"\")\n",
    "\n",
    "*Programme défectueux:*"
   ]
  },
  {
   "cell_type": "markdown",
   "metadata": {
    "slideshow": {
     "slide_type": "subslide"
    }
   },
   "source": [
    "![](img/java.jpg \"\")\n",
    "\n",
    "Passage en Javascript"
   ]
  },
  {
   "cell_type": "markdown",
   "metadata": {
    "slideshow": {
     "slide_type": "subslide"
    }
   },
   "source": [
    "![](img/microbitfaux.jpeg \"\")\n",
    "\n",
    "Programme final\n"
   ]
  },
  {
   "cell_type": "markdown",
   "metadata": {
    "slideshow": {
     "slide_type": "slide"
    }
   },
   "source": [
    "# Expérimentation\n",
    "\n",
    "![](img/structure.jpg \"\")"
   ]
  },
  {
   "cell_type": "markdown",
   "metadata": {
    "slideshow": {
     "slide_type": "subslide"
    }
   },
   "source": [
    "![](img/circuit.jpg \"\")\n",
    "\n",
    "Capteur ILS relié à la Microbit via une Breadboard"
   ]
  },
  {
   "cell_type": "markdown",
   "metadata": {
    "slideshow": {
     "slide_type": "subslide"
    }
   },
   "source": [
    "![](img/circuit2.jpg \"\")\n",
    "\n",
    "PIN 1 et 3V utilisées"
   ]
  },
  {
   "cell_type": "markdown",
   "metadata": {
    "slideshow": {
     "slide_type": "slide"
    }
   },
   "source": [
    "# Expérimentation en direct"
   ]
  },
  {
   "cell_type": "markdown",
   "metadata": {
    "slideshow": {
     "slide_type": "slide"
    }
   },
   "source": [
    "# Lien avec le TPE\n"
   ]
  },
  {
   "cell_type": "code",
   "execution_count": null,
   "metadata": {
    "collapsed": true
   },
   "outputs": [],
   "source": []
  },
  {
   "cell_type": "code",
   "execution_count": null,
   "metadata": {
    "collapsed": true
   },
   "outputs": [],
   "source": []
  }
 ],
 "metadata": {
  "celltoolbar": "Slideshow",
  "kernelspec": {
   "display_name": "Python 3",
   "language": "python",
   "name": "python3"
  },
  "language_info": {
   "codemirror_mode": {
    "name": "ipython",
    "version": 3
   },
   "file_extension": ".py",
   "mimetype": "text/x-python",
   "name": "python",
   "nbconvert_exporter": "python",
   "pygments_lexer": "ipython3",
   "version": "3.6.3"
  }
 },
 "nbformat": 4,
 "nbformat_minor": 2
}
